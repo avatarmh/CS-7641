{
 "cells": [
  {
   "cell_type": "code",
   "execution_count": 124,
   "metadata": {
    "collapsed": false
   },
   "outputs": [],
   "source": [
    "import numpy as np\n",
    "#import pandas as pd\n",
    "import scipy as sp\n",
    "import matplotlib.pyplot as plt\n",
    "import pydot\n",
    "from sklearn import tree\n",
    "from sklearn import cross_validation\n",
    "from sklearn.metrics import confusion_matrix\n",
    "from sklearn.metrics import accuracy_score\n",
    "from sklearn.datasets import load_iris\n",
    "from sklearn.externals.six import StringIO  "
   ]
  },
  {
   "cell_type": "code",
   "execution_count": 125,
   "metadata": {
    "collapsed": false
   },
   "outputs": [],
   "source": [
    "#\n",
    "# GOAL: fit a decision tree to predict one of 3 iris species \n",
    "# based on sepal and petal length and width and explore, if \n",
    "# needed, reduced error pruning vs post-pruning.\n",
    "#\n",
    "# • Expand tree using a 90%/10% training/test set scheme by\n",
    "#   varying the maximum depth. Reduce overfitting by con-\n",
    "#   straining minimum samples_split to 5% of sample to be \n",
    "#   fit (90%). Capture accuracy of training/test sets and \n",
    "#   complexity according to maximum number of nodes. \n",
    "#   Variables and arrays associated with this simple method\n",
    "#   will have suffix _expd\n",
    "# • Tune using K-fold cross-validation (CV) on 80%/10%/10%\n",
    "#   training/CV/test data. Tuning trees on the 10% holdout\n",
    "#   effectively constitutes pruning mechanism. Capture \n",
    "#   tuning and test set accuracy scores. Variables and \n",
    "#   arrays associated with the tuning will have suffix \n",
    "#   _kfld\n",
    "# • _tr refers to tr sets and _te refers to test sets\n",
    "# • For understandability, two separate loops generate \n",
    "#   the two different methods. Results are plotted on\n",
    "#   a single graph"
   ]
  },
  {
   "cell_type": "code",
   "execution_count": 126,
   "metadata": {
    "collapsed": false
   },
   "outputs": [
    {
     "name": "stdout",
     "output_type": "stream",
     "text": [
      "150\n"
     ]
    }
   ],
   "source": [
    "# Preliminary exploratory data analysis\n",
    "#\n",
    "# Load Fisher's iris data and verify dimensions\n",
    "data_set_name = \"Fisher's Iris Data\"\n",
    "iris = load_iris()\n",
    "samples = iris.data.shape[0]\n",
    "features = iris.data.shape[1]\n",
    "classes = iris.target_names.shape[0]\n",
    "print samples"
   ]
  },
  {
   "cell_type": "code",
   "execution_count": 127,
   "metadata": {
    "collapsed": false
   },
   "outputs": [],
   "source": [
    "#df = pd.read_csv(\"iris.csv\") #Reading the dataset in a dataframe using Pandas\n",
    "#df.head(10)"
   ]
  },
  {
   "cell_type": "code",
   "execution_count": 128,
   "metadata": {
    "collapsed": false
   },
   "outputs": [
    {
     "name": "stdout",
     "output_type": "stream",
     "text": [
      "15\n"
     ]
    }
   ],
   "source": [
    "# Separate data into randomly selected training/validation and test\n",
    "# sets keeping the test set for final model testing. Since the iris\n",
    "# data is so small will do a K-fold cv but will still do final\n",
    "# test for some percent reserved for hold_out.\n",
    "#\n",
    "samples_te =.9\n",
    "rand = 21\n",
    "X_tr_expd, X_te_expd, y_tr_expd, y_te_expd = cross_validation.train_test_split(\n",
    "    iris.data, iris.target, test_size=samples_te, random_state=rand)\n",
    "print(X_tr_expd.shape[0])"
   ]
  },
  {
   "cell_type": "code",
   "execution_count": 129,
   "metadata": {
    "collapsed": false
   },
   "outputs": [],
   "source": [
    "# Initialize values for the maximum depth and counters for complexity\n",
    "# and accuracy\n",
    "#\n",
    "tot_nodes_expd = [] # attrib # nodes for DT by depth; may differ for CV\n",
    "tot_nodes_kfld = [] # attrib # nodes for DT by depth; may differ for CV (**FIX**)\n",
    "acc_tr_expd = []  # accuracy from simple DT build on training set\n",
    "acc_te_expd = []  # accuracy from simple DT build on test set\n",
    "acc_tr_kfld = []  # accuracy from kfolds on training set\n",
    "acc_te_kfld = []  # accuracy from kfolds on hold out set"
   ]
  },
  {
   "cell_type": "code",
   "execution_count": 113,
   "metadata": {
    "collapsed": false
   },
   "outputs": [],
   "source": [
    "#folds = 5  # choose your folds\n",
    "#kfold = cross_validation.KFold(X_train.shape[0],n_folds=folds)"
   ]
  },
  {
   "cell_type": "code",
   "execution_count": 130,
   "metadata": {
    "collapsed": false
   },
   "outputs": [
    {
     "name": "stdout",
     "output_type": "stream",
     "text": [
      "12\n"
     ]
    }
   ],
   "source": [
    "max_depth = samples/(features*classes)  # heuristic to honesty build out tree\n",
    "max_depths = range(1,max_depth+1) # fix indices to correspond with nodes in loop\n",
    "print max_depth"
   ]
  },
  {
   "cell_type": "code",
   "execution_count": 115,
   "metadata": {
    "collapsed": false
   },
   "outputs": [
    {
     "name": "stdout",
     "output_type": "stream",
     "text": [
      "('FINAL TRAIN-TEST TREE: max_depth=', 2)\n",
      "('tot_nodes=', [3, 5, 5, 5, 5, 5, 5, 5, 5, 5, 5, 5])\n",
      "('acc_train=', array([ 0.8667,  1.    ,  1.    ,  1.    ,  1.    ,  1.    ,  1.    ,\n",
      "        1.    ,  1.    ,  1.    ,  1.    ,  1.    ]))\n",
      "('Train Confusion Matrix ', array([[2, 0, 0],\n",
      "       [0, 6, 0],\n",
      "       [0, 0, 7]]))\n",
      "('acc_test=', array([ 0.5852,  0.7259,  0.9407,  0.7259,  0.9407,  0.7259,  0.9407,\n",
      "        0.9407,  0.9407,  0.7259,  0.9407,  0.9407]))\n",
      "('Test Confusion Matrix', array([[48,  0,  0],\n",
      "       [ 0, 42,  2],\n",
      "       [ 0,  6, 37]]))\n"
     ]
    }
   ],
   "source": [
    "max_depths = range(1,max_depth+1) # fix indices to correspond with nodes\n",
    "max_depth_obs = 1\n",
    "#\n",
    "for depth in max_depths:\n",
    "    clf = tree.DecisionTreeClassifier(max_depth=depth)\n",
    "    kf_clf = clf # for use in inner loop for k-fold CV\n",
    "    clf = clf.fit(X_tr_expd, y_tr_expd) # fully grown tree s.t. min samples\n",
    "# Pull attribute for test/train model and calculate errors\n",
    "    max_depth_obs = max(max_depth_obs, clf.tree_.max_depth)\n",
    "    tot_nodes_expd.append(clf.tree_.node_count) # works for test set too\n",
    "    pred_y_tr_expd = clf.predict(X_tr_expd)\n",
    "    acc_tr_expd.append(accuracy_score(y_tr_expd, pred_y_tr_expd))\n",
    "    pred_y_te_expd = clf.predict(X_te_expd)\n",
    "    acc_te_expd.append(accuracy_score(y_te_expd, pred_y_te_expd))\n",
    "\n",
    "print(\"FINAL TRAIN-TEST TREE: max_depth=\", max_depth_obs)\n",
    "print(\"tot_nodes=\", tot_nodes_expd[0:max_depth])\n",
    "print(\"acc_train=\", np.around(acc_tr_expd[0:max_depth],4))\n",
    "print(\"Train Confusion Matrix \", confusion_matrix(y_tr_expd, pred_y_tr_expd))\n",
    "print(\"acc_test=\", np.around(acc_te_expd[0:max_depth],4))\n",
    "print(\"Test Confusion Matrix\", confusion_matrix(y_te_expd,pred_y_te_expd))\n",
    "#print(\"acc_kfold_tr=\", np.around(acc_kfold_tr[0:depth],4))\n",
    "#print(\"acc_kfold_te=\", np.around(acc_kfold_te[0:depth],4))"
   ]
  },
  {
   "cell_type": "code",
   "execution_count": 116,
   "metadata": {
    "collapsed": false
   },
   "outputs": [],
   "source": [
    "# Init for fold loop\n",
    "#    acc_k_tr = [] # init to track kfold training errors for each depth\n",
    "#    acc_k_te = []  # init to track kfold testing errors for each depth\n",
    "#    best_kf_clf = np.zeros[[1,maxdepths]]\n",
    "# train K-fold and get kfold and test accuracy; get best fold tree \n",
    "#    for train, test in kfold:\n",
    "#        X_ktrain, X_ktest = X_train[train], X_train[test] \n",
    "#        y_ktrain, y_ktest = y_train[train], y_train[test]       \n",
    "#        kf_clf.fit(X_ktrain,y_ktrain)\n",
    "#        pred_y_ktest = clf.predict(X_ktest) \n",
    "#        acc_k_tr.append(accuracy_score(y_ktest,pred_y_ktest)) # acc of kfold training\n",
    "#        print(acc_k_tr)\n",
    "#        pred_y_test_final = clf.predict(X_test) \n",
    "#        acc_k_te.append(accuracy_score(y_test,pred_y_test_meta))\n",
    "#    acc_kfold_tr.append(np.mean(acc_k_tr))\n",
    "#    acc_kfold_te.append(np.mean(acc_k_te))"
   ]
  },
  {
   "cell_type": "code",
   "execution_count": 117,
   "metadata": {
    "collapsed": false
   },
   "outputs": [
    {
     "data": {
      "text/plain": [
       "'digraph Tree {\\n0 [label=\"petal length (cm) <= 4.9500\\\\ngini = 0.604444444444\\\\nsamples = 15\", shape=\"box\"] ;\\n1 [label=\"petal width (cm) <= 0.6500\\\\ngini = 0.375\\\\nsamples = 8\", shape=\"box\"] ;\\n0 -> 1 ;\\n2 [label=\"gini = 0.0000\\\\nsamples = 2\\\\nvalue = [ 2.  0.  0.]\", shape=\"box\"] ;\\n1 -> 2 ;\\n3 [label=\"gini = 0.0000\\\\nsamples = 6\\\\nvalue = [ 0.  6.  0.]\", shape=\"box\"] ;\\n1 -> 3 ;\\n4 [label=\"gini = 0.0000\\\\nsamples = 7\\\\nvalue = [ 0.  0.  7.]\", shape=\"box\"] ;\\n0 -> 4 ;\\n}'"
      ]
     },
     "execution_count": 117,
     "metadata": {},
     "output_type": "execute_result"
    }
   ],
   "source": [
    "dot_data = StringIO() \n",
    "tree.export_graphviz(clf, out_file=dot_data, feature_names=iris.feature_names)\n",
    "dot_data.getvalue()"
   ]
  },
  {
   "cell_type": "code",
   "execution_count": 118,
   "metadata": {
    "collapsed": false
   },
   "outputs": [],
   "source": [
    "graph = pydot.graph_from_dot_data(dot_data.getvalue())"
   ]
  },
  {
   "cell_type": "code",
   "execution_count": 119,
   "metadata": {
    "collapsed": false
   },
   "outputs": [],
   "source": [
    "max_depth_str = str(max_depth)\n",
    "test_size = str(samples_te)"
   ]
  },
  {
   "cell_type": "code",
   "execution_count": 120,
   "metadata": {
    "collapsed": false
   },
   "outputs": [],
   "source": [
    "rand_num = str(rand)"
   ]
  },
  {
   "cell_type": "code",
   "execution_count": 121,
   "metadata": {
    "collapsed": false
   },
   "outputs": [
    {
     "name": "stdout",
     "output_type": "stream",
     "text": [
      "Fisher's Iris Data_test_0.9%_max_depth_12_rand_21_dt\n"
     ]
    }
   ],
   "source": [
    "filename = data_set_name + \"_test_\" + test_size + \"%_max_depth_\"\n",
    "filename = filename + max_depth_str + \"_rand_\" + rand_num\n",
    "filename_dt = filename + \"_dt\"\n",
    "print filename_dt"
   ]
  },
  {
   "cell_type": "code",
   "execution_count": 122,
   "metadata": {
    "collapsed": false
   },
   "outputs": [
    {
     "data": {
      "text/plain": [
       "True"
      ]
     },
     "execution_count": 122,
     "metadata": {},
     "output_type": "execute_result"
    }
   ],
   "source": [
    "graph.write_pdf(\"iris.pdf\")"
   ]
  },
  {
   "cell_type": "code",
   "execution_count": 123,
   "metadata": {
    "collapsed": false
   },
   "outputs": [],
   "source": [
    "fig = plt.figure()\n",
    "ax = fig.add_subplot(111)\n",
    "ax.plot(tot_nodes_expd, acc_tr_expd, label=\"Training Set\")\n",
    "ax.plot(tot_nodes_expd, acc_te_expd, label=\"Test Set\")\n",
    "#ax.plot(tot_nodes_train, acc_kfold_tr, label=\"Kfold Set\")\n",
    "#ax.plot(tot_nodes_train, acc_kfold_te, label=\"Pruned Test Set\")\n",
    "ax.set_xlabel('Size of Tree (# nodes)')\n",
    "ax.set_ylabel('Accuracy')\n",
    "ax.set_xlim(1,20)\n",
    "ax.set_xticks(range(21))\n",
    "ax.set_ylim(0.5,1.05)\n",
    "ax.set_title(filename)\n",
    "filename_png = filename + \".png\"\n",
    "ax.yaxis.grid(color='gray', linestyle='dashed')\n",
    "ax.xaxis.grid(color='gray', linestyle='dashed')\n",
    "ax.legend(loc='lower right', fontsize=12)\n",
    "#plt.show()\n",
    "plt.savefig(filename_png)"
   ]
  },
  {
   "cell_type": "code",
   "execution_count": 106,
   "metadata": {
    "collapsed": false
   },
   "outputs": [],
   "source": []
  },
  {
   "cell_type": "code",
   "execution_count": 106,
   "metadata": {
    "collapsed": false
   },
   "outputs": [],
   "source": []
  },
  {
   "cell_type": "code",
   "execution_count": null,
   "metadata": {
    "collapsed": false
   },
   "outputs": [],
   "source": []
  }
 ],
 "metadata": {
  "kernelspec": {
   "display_name": "Python 2",
   "language": "python",
   "name": "python2"
  },
  "language_info": {
   "codemirror_mode": {
    "name": "ipython",
    "version": 2
   },
   "file_extension": ".py",
   "mimetype": "text/x-python",
   "name": "python",
   "nbconvert_exporter": "python",
   "pygments_lexer": "ipython2",
   "version": "2.7.11"
  }
 },
 "nbformat": 4,
 "nbformat_minor": 0
}
