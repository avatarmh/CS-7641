{
 "cells": [
  {
   "cell_type": "code",
   "execution_count": 1,
   "metadata": {
    "collapsed": false
   },
   "outputs": [],
   "source": [
    "# Author: Miriam Heller <mheller8@gatech.edu>\n",
    "# OMSCS 7641\n",
    "\n",
    "# Application to the sk-learns's built in 0-9 digit dataset\n",
    "from sklearn.neighbors import KNeighborsClassifier\n",
    "\n",
    "# Standard scientific Python imports\n",
    "import numpy as np\n",
    "import matplotlib.pyplot as plt\n",
    "# %matplotlib inline\n",
    "from sklearn import cross_validation\n",
    "from sklearn.metrics import confusion_matrix\n",
    "from sklearn.metrics import accuracy_score\n",
    "\n",
    "# Import digits dataset\n",
    "from sklearn.datasets import load_digits"
   ]
  },
  {
   "cell_type": "code",
   "execution_count": 2,
   "metadata": {
    "collapsed": false
   },
   "outputs": [],
   "source": [
    "#\n",
    "# Goal: Apply the k-NN classifier to two datasets. Evaluate the models while varying hyperparameter values.\n",
    "# Learn how to select the best model for each algorithm and dataset. Compare the performance of the k-NN\n",
    "# algorithm on the different dataset and determine whether one type of data was more amenable to the\n",
    "# algorithm than the other. Through analysis speculate or explain why.\n",
    "#\n",
    "# Dataset 1 = the sci-kit subset of the MNIST database of handwritten digits 0-9. This subset consists of\n",
    "# 1797 samples with each digit depicted/store as 8x8 16 grey-scale # images. Thus each sample has 64\n",
    "# features.\n",
    "#\n",
    "# Parameters to vary for model selection:\n",
    "#\n",
    "# • k - number of nearest neighbors to use to estimate target\n",
    "#\n",
    "# • Learning (Split on training/CV/test) - 70%/30%, 80%/20%, 85%/15%, 90%/10% training/test set scheme.\n",
    "#   Reduce overfitting by constraining minimum samples_split to 5% of sample to be fit (90%).\n",
    "#\n",
    "# • d(x,q) - definition of distance, e.g., Manhatten, Euclidean, Distance-Weighted, etc.\n",
    "#\n",
    "# Models will be evaluated and selected based on the analysis of the results of parameter variation in\n",
    "# terms of bias, variance and learning curves.\n",
    "#"
   ]
  },
  {
   "cell_type": "code",
   "execution_count": 3,
   "metadata": {
    "collapsed": false
   },
   "outputs": [
    {
     "name": "stdout",
     "output_type": "stream",
     "text": [
      "1797\n",
      "64\n",
      "10\n",
      "[0 1 2 3 4 5 6 7 8 9]\n",
      "[[  0.   0.   0.  12.  13.   5.   0.   0.   0.   0.   0.  11.  16.   9.\n",
      "    0.   0.   0.   0.   3.  15.  16.   6.   0.   0.   0.   7.  15.  16.\n",
      "   16.   2.   0.   0.   0.   0.   1.  16.  16.   3.   0.   0.   0.   0.\n",
      "    1.  16.  16.   6.   0.   0.   0.   0.   1.  16.  16.   6.   0.   0.\n",
      "    0.   0.   0.  11.  16.  10.   0.   0.]]\n",
      "1797\n"
     ]
    }
   ],
   "source": [
    "\n",
    "# Exploratory data analysis to verify dataset\n",
    "#\n",
    "# Load MNIST digit data and verify dimensions\n",
    "data_set_name = \"MNIST Digit Dataset\"\n",
    "digits = load_digits()\n",
    "samples = digits.data.shape[0]\n",
    "features = digits.data.shape[1]\n",
    "classes = digits.target_names.shape[0]\n",
    "print samples\n",
    "print features\n",
    "print classes\n",
    "print digits.target_names\n",
    "print digits.data[1:2]\n",
    "print digits.target.shape[0]"
   ]
  },
  {
   "cell_type": "code",
   "execution_count": 4,
   "metadata": {
    "collapsed": false
   },
   "outputs": [],
   "source": [
    "# Separate data into randomly selected training/validation and test\n",
    "# sets keeping the test set for final model testing. * Since the iris\n",
    "# data is so small will do a K-fold cv but will still do final\n",
    "# test for some percent reserved for hold_out.*\n",
    "#\n",
    "hold_out =.4\n",
    "rand = 42\n",
    "X_train, X_holdout, y_train, y_holdout = cross_validation.train_test_split(\n",
    "    digits.data, digits.target, test_size=hold_out, random_state=rand)\n",
    "# Split holdout evenly into a cross-validation set and a final test set\n",
    "X_CV, X_test, y_CV, y_test = cross_validation.train_test_split(\n",
    "    X_holdout, y_holdout, test_size=.5, random_state=rand)"
   ]
  },
  {
   "cell_type": "code",
   "execution_count": 5,
   "metadata": {
    "collapsed": false
   },
   "outputs": [
    {
     "name": "stdout",
     "output_type": "stream",
     "text": [
      "samples =  1797\n",
      "features =  64\n",
      "targets =  1797\n",
      "(1078, 64)\n",
      "(1078,)\n",
      "(359, 64)\n",
      "(359,)\n",
      "(360, 64)\n",
      "(360,)\n"
     ]
    }
   ],
   "source": [
    "print 'samples = ', digits.data.shape[0]\n",
    "print 'features = ', digits.data.shape[1]\n",
    "print 'targets = ', digits.target.shape[0]\n",
    "#print 'classes = ', digits.target_names.shape[0]\n",
    "#print 'X_train=', X_train\n",
    "#print 'y_train=', y_train\n",
    "print X_train.shape\n",
    "print y_train.shape\n",
    "print X_CV.shape\n",
    "print y_CV.shape\n",
    "print X_test.shape\n",
    "print y_test.shape"
   ]
  },
  {
   "cell_type": "code",
   "execution_count": null,
   "metadata": {
    "collapsed": false
   },
   "outputs": [],
   "source": []
  }
 ],
 "metadata": {
  "kernelspec": {
   "display_name": "Python 2",
   "language": "python",
   "name": "python2"
  },
  "language_info": {
   "codemirror_mode": {
    "name": "ipython",
    "version": 2
   },
   "file_extension": ".py",
   "mimetype": "text/x-python",
   "name": "python",
   "nbconvert_exporter": "python",
   "pygments_lexer": "ipython2",
   "version": "2.7.11"
  }
 },
 "nbformat": 4,
 "nbformat_minor": 0
}
