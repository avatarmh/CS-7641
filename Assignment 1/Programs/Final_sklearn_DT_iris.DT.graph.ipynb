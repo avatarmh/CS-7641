{
 "metadata": {
  "name": "",
  "signature": "sha256:73b9e083b0ccf664f6ee97300e4a77d565b951a5ebdfe02dd5cc6623510d01f9"
 },
 "nbformat": 3,
 "nbformat_minor": 0,
 "worksheets": [
  {
   "cells": [
    {
     "cell_type": "code",
     "collapsed": false,
     "input": [
      "from sklearn.datasets import load_iris\n",
      "from sklearn import tree\n",
      "import numpy as np"
     ],
     "language": "python",
     "metadata": {},
     "outputs": [],
     "prompt_number": 87
    },
    {
     "cell_type": "code",
     "collapsed": false,
     "input": [
      "iris = load_iris()\n",
      "clf = tree.DecisionTreeClassifier()\n",
      "clf = clf.fit(iris.data, iris.target)"
     ],
     "language": "python",
     "metadata": {},
     "outputs": [],
     "prompt_number": 88
    },
    {
     "cell_type": "code",
     "collapsed": false,
     "input": [
      "from sklearn.externals.six import StringIO  \n",
      "import pydot \n",
      "dot_data = StringIO() \n",
      "tree.export_graphviz(clf, out_file=dot_data, feature_names=iris.feature_names) \n",
      "graph = pydot.graph_from_dot_data(dot_data.getvalue()) \n",
      "graph.write_pdf(\"Final_sklearn_DT_example1_iris.pdf\") "
     ],
     "language": "python",
     "metadata": {},
     "outputs": [
      {
       "output_type": "stream",
       "stream": "stdout",
       "text": [
        "Warning: Could not load \"/usr/local/lib/graphviz/libgvplugin_pango.6.dylib\" - file not found\n",
        "Warning: Could not load \"/usr/local/lib/graphviz/libgvplugin_pango.6.dylib\" - file not found\n",
        "Warning: Could not load \"/usr/local/lib/graphviz/libgvplugin_pango.6.dylib\" - file not found\n",
        "\n"
       ]
      },
      {
       "metadata": {},
       "output_type": "pyout",
       "prompt_number": 89,
       "text": [
        "True"
       ]
      }
     ],
     "prompt_number": 89
    },
    {
     "cell_type": "code",
     "collapsed": false,
     "input": [],
     "language": "python",
     "metadata": {},
     "outputs": []
    }
   ],
   "metadata": {}
  }
 ]
}