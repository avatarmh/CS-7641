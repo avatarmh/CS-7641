{
 "cells": [
  {
   "cell_type": "code",
   "execution_count": 13,
   "metadata": {
    "collapsed": false
   },
   "outputs": [],
   "source": [
    "import numpy as np\n",
    "#import pandas as pd\n",
    "import scipy as sp\n",
    "import matplotlib.pyplot as plt\n",
    "import pydot\n",
    "from sklearn import tree\n",
    "from sklearn import cross_validation\n",
    "from sklearn.metrics import confusion_matrix\n",
    "from sklearn.metrics import accuracy_score\n",
    "from sklearn.datasets import load_iris\n",
    "from sklearn.externals.six import StringIO  "
   ]
  },
  {
   "cell_type": "code",
   "execution_count": 14,
   "metadata": {
    "collapsed": false
   },
   "outputs": [],
   "source": [
    "#\n",
    "# GOAL: fit a decision tree to predict one of 3 iris species \n",
    "# based on sepal and petal length and width and explore, if \n",
    "# needed, reduced error pruning vs post-pruning.\n",
    "#\n",
    "# • Expand tree using a 90%/10% training/test set scheme by\n",
    "#   varying the maximum depth. Reduce overfitting by con-\n",
    "#   straining minimum samples_split to 5% of sample to be \n",
    "#   fit (90%). Capture accuracy of training/test sets and \n",
    "#   complexity according to maximum number of nodes. \n",
    "#   Variables and arrays associated with this simple method\n",
    "#   will have suffix _expd\n",
    "# • Tune using K-fold cross-validation (CV) on 80%/10%/10%\n",
    "#   training/CV/test data. Tuning trees on the 10% holdout\n",
    "#   effectively constitutes pruning mechanism. Capture \n",
    "#   tuning and test set accuracy scores. Variables and \n",
    "#   arrays associated with the tuning will have suffix \n",
    "#   _kfld\n",
    "# • _tr refers to tr sets and _te refers to test sets\n",
    "# • For understandability, two separate loops generate \n",
    "#   the two different methods. Results are plotted on\n",
    "#   a single graph"
   ]
  },
  {
   "cell_type": "code",
   "execution_count": 15,
   "metadata": {
    "collapsed": false
   },
   "outputs": [
    {
     "name": "stdout",
     "output_type": "stream",
     "text": [
      "150\n"
     ]
    }
   ],
   "source": [
    "# Preliminary exploratory data analysis\n",
    "#\n",
    "# Load Fisher's iris data and verify dimensions\n",
    "data_set_name = \"Fisher's Iris Data\"\n",
    "iris = load_iris()\n",
    "samples = iris.data.shape[0]\n",
    "features = iris.data.shape[1]\n",
    "classes = iris.target_names.shape[0]\n",
    "print samples"
   ]
  },
  {
   "cell_type": "code",
   "execution_count": 16,
   "metadata": {
    "collapsed": false
   },
   "outputs": [],
   "source": [
    "#df = pd.read_csv(\"iris.csv\") #Reading the dataset in a dataframe using Pandas\n",
    "#df.head(10)"
   ]
  },
  {
   "cell_type": "code",
   "execution_count": 17,
   "metadata": {
    "collapsed": false
   },
   "outputs": [
    {
     "name": "stdout",
     "output_type": "stream",
     "text": [
      "15\n"
     ]
    }
   ],
   "source": [
    "# Separate data into randomly selected training/validation and test\n",
    "# sets keeping the test set for final model testing. Since the iris\n",
    "# data is so small will do a K-fold cv but will still do final\n",
    "# test for some percent reserved for hold_out.\n",
    "#\n",
    "samples_te =.9\n",
    "rand = 21\n",
    "X_tr_expd, X_te_expd, y_tr_expd, y_te_expd = cross_validation.train_test_split(\n",
    "    iris.data, iris.target, test_size=samples_te, random_state=rand)\n",
    "print(X_tr_expd.shape[0])"
   ]
  },
  {
   "cell_type": "code",
   "execution_count": 18,
   "metadata": {
    "collapsed": false
   },
   "outputs": [],
   "source": [
    "# Initialize values for the maximum depth and counters for complexity\n",
    "# and accuracy\n",
    "#\n",
    "tot_nodes_expd = [] # attrib # nodes for DT by depth; may differ for CV\n",
    "tot_nodes_kfld = [] # attrib # nodes for DT by depth; may differ for CV (**FIX**)\n",
    "acc_tr_expd = []  # accuracy from simple DT build on training set\n",
    "acc_te_expd = []  # accuracy from simple DT build on test set\n",
    "acc_tr_kfld = []  # accuracy from kfolds on training set\n",
    "acc_te_kfld = []  # accuracy from kfolds on hold out set"
   ]
  },
  {
   "cell_type": "code",
   "execution_count": 19,
   "metadata": {
    "collapsed": false
   },
   "outputs": [],
   "source": [
    "#folds = 5  # choose your folds\n",
    "#kfold = cross_validation.KFold(X_train.shape[0],n_folds=folds)"
   ]
  },
  {
   "cell_type": "code",
   "execution_count": 20,
   "metadata": {
    "collapsed": false
   },
   "outputs": [
    {
     "name": "stdout",
     "output_type": "stream",
     "text": [
      "12\n"
     ]
    }
   ],
   "source": [
    "max_depth = samples/(features*classes)  # heuristic to honesty build out tree\n",
    "max_depths = range(1,max_depth+1) # fix indices to correspond with nodes in loop\n",
    "print max_depth"
   ]
  },
  {
   "cell_type": "code",
   "execution_count": 21,
   "metadata": {
    "collapsed": false
   },
   "outputs": [
    {
     "name": "stdout",
     "output_type": "stream",
     "text": [
      "('FINAL TRAIN-TEST TREE: max_depth=', 2)\n",
      "('tot_nodes=', [3, 5, 5, 5, 5, 5, 5, 5, 5, 5, 5, 5])\n",
      "('acc_train=', array([ 0.8667,  1.    ,  1.    ,  1.    ,  1.    ,  1.    ,  1.    ,\n",
      "        1.    ,  1.    ,  1.    ,  1.    ,  1.    ]))\n",
      "('Train Confusion Matrix ', array([[2, 0, 0],\n",
      "       [0, 6, 0],\n",
      "       [0, 0, 7]]))\n",
      "('acc_test=', array([ 0.5852,  0.9407,  0.9407,  0.9407,  0.9407,  0.9407,  0.9407,\n",
      "        0.7259,  0.9407,  0.7259,  0.9407,  0.9407]))\n",
      "('Test Confusion Matrix', array([[48,  0,  0],\n",
      "       [ 0, 42,  2],\n",
      "       [ 0,  6, 37]]))\n"
     ]
    }
   ],
   "source": [
    "max_depths = range(1,max_depth+1) # fix indices to correspond with nodes\n",
    "max_depth_obs = 1\n",
    "#\n",
    "for depth in max_depths:\n",
    "    clf = tree.DecisionTreeClassifier(max_depth=depth)\n",
    "    kf_clf = clf # for use in inner loop for k-fold CV\n",
    "    clf = clf.fit(X_tr_expd, y_tr_expd) # fully grown tree s.t. min samples\n",
    "# Pull attribute for test/train model and calculate errors\n",
    "    max_depth_obs = max(max_depth_obs, clf.tree_.max_depth)\n",
    "    tot_nodes_expd.append(clf.tree_.node_count) # works for test set too\n",
    "    pred_y_tr_expd = clf.predict(X_tr_expd)\n",
    "    acc_tr_expd.append(accuracy_score(y_tr_expd, pred_y_tr_expd))\n",
    "    pred_y_te_expd = clf.predict(X_te_expd)\n",
    "    acc_te_expd.append(accuracy_score(y_te_expd, pred_y_te_expd))\n",
    "\n",
    "print(\"FINAL TRAIN-TEST TREE: max_depth=\", max_depth_obs)\n",
    "print(\"tot_nodes=\", tot_nodes_expd[0:max_depth])\n",
    "print(\"acc_train=\", np.around(acc_tr_expd[0:max_depth],4))\n",
    "print(\"Train Confusion Matrix \", confusion_matrix(y_tr_expd, pred_y_tr_expd))\n",
    "print(\"acc_test=\", np.around(acc_te_expd[0:max_depth],4))\n",
    "print(\"Test Confusion Matrix\", confusion_matrix(y_te_expd,pred_y_te_expd))\n",
    "#print(\"acc_kfold_tr=\", np.around(acc_kfold_tr[0:depth],4))\n",
    "#print(\"acc_kfold_te=\", np.around(acc_kfold_te[0:depth],4))"
   ]
  },
  {
   "cell_type": "code",
   "execution_count": 22,
   "metadata": {
    "collapsed": false
   },
   "outputs": [],
   "source": [
    "# Init for fold loop\n",
    "#    acc_k_tr = [] # init to track kfold training errors for each depth\n",
    "#    acc_k_te = []  # init to track kfold testing errors for each depth\n",
    "#    best_kf_clf = np.zeros[[1,maxdepths]]\n",
    "# train K-fold and get kfold and test accuracy; get best fold tree \n",
    "#    for train, test in kfold:\n",
    "#        X_ktrain, X_ktest = X_train[train], X_train[test] \n",
    "#        y_ktrain, y_ktest = y_train[train], y_train[test]       \n",
    "#        kf_clf.fit(X_ktrain,y_ktrain)\n",
    "#        pred_y_ktest = clf.predict(X_ktest) \n",
    "#        acc_k_tr.append(accuracy_score(y_ktest,pred_y_ktest)) # acc of kfold training\n",
    "#        print(acc_k_tr)\n",
    "#        pred_y_test_final = clf.predict(X_test) \n",
    "#        acc_k_te.append(accuracy_score(y_test,pred_y_test_meta))\n",
    "#    acc_kfold_tr.append(np.mean(acc_k_tr))\n",
    "#    acc_kfold_te.append(np.mean(acc_k_te))"
   ]
  },
  {
   "cell_type": "code",
   "execution_count": 25,
   "metadata": {
    "collapsed": false
   },
   "outputs": [
    {
     "data": {
      "text/plain": [
       "'digraph Tree {\\nnode [shape=box] ;\\n0 [label=\"petal length (cm) <= 4.95\\\\ngini = 0.6044\\\\nsamples = 15\\\\nvalue = [2, 6, 7]\"] ;\\n1 [label=\"petal width (cm) <= 0.65\\\\ngini = 0.375\\\\nsamples = 8\\\\nvalue = [2, 6, 0]\"] ;\\n0 -> 1 [labeldistance=2.5, labelangle=45, headlabel=\"True\"] ;\\n2 [label=\"gini = 0.0\\\\nsamples = 2\\\\nvalue = [2, 0, 0]\"] ;\\n1 -> 2 ;\\n3 [label=\"gini = 0.0\\\\nsamples = 6\\\\nvalue = [0, 6, 0]\"] ;\\n1 -> 3 ;\\n4 [label=\"gini = 0.0\\\\nsamples = 7\\\\nvalue = [0, 0, 7]\"] ;\\n0 -> 4 [labeldistance=2.5, labelangle=-45, headlabel=\"False\"] ;\\n}'"
      ]
     },
     "execution_count": 25,
     "metadata": {},
     "output_type": "execute_result"
    }
   ],
   "source": [
    "dot_data = StringIO() \n",
    "tree.export_graphviz(clf, out_file=dot_data, feature_names=iris.feature_names)\n",
    "dot_data.getvalue()"
   ]
  },
  {
   "cell_type": "code",
   "execution_count": 26,
   "metadata": {
    "collapsed": false
   },
   "outputs": [
    {
     "ename": "NameError",
     "evalue": "global name 'dot_parser' is not defined",
     "output_type": "error",
     "traceback": [
      "\u001b[0;31m---------------------------------------------------------------------------\u001b[0m",
      "\u001b[0;31mNameError\u001b[0m                                 Traceback (most recent call last)",
      "\u001b[0;32m<ipython-input-26-c9f83a513ceb>\u001b[0m in \u001b[0;36m<module>\u001b[0;34m()\u001b[0m\n\u001b[0;32m----> 1\u001b[0;31m \u001b[0mgraph\u001b[0m \u001b[0;34m=\u001b[0m \u001b[0mpydot\u001b[0m\u001b[0;34m.\u001b[0m\u001b[0mgraph_from_dot_data\u001b[0m\u001b[0;34m(\u001b[0m\u001b[0mdot_data\u001b[0m\u001b[0;34m.\u001b[0m\u001b[0mgetvalue\u001b[0m\u001b[0;34m(\u001b[0m\u001b[0;34m)\u001b[0m\u001b[0;34m)\u001b[0m\u001b[0;34m\u001b[0m\u001b[0m\n\u001b[0m",
      "\u001b[0;32m/Users/miriamheller/anaconda/lib/python2.7/site-packages/pydot.pyc\u001b[0m in \u001b[0;36mgraph_from_dot_data\u001b[0;34m(data)\u001b[0m\n\u001b[1;32m    218\u001b[0m     \"\"\"\n\u001b[1;32m    219\u001b[0m \u001b[0;34m\u001b[0m\u001b[0m\n\u001b[0;32m--> 220\u001b[0;31m     \u001b[0;32mreturn\u001b[0m \u001b[0mdot_parser\u001b[0m\u001b[0;34m.\u001b[0m\u001b[0mparse_dot_data\u001b[0m\u001b[0;34m(\u001b[0m\u001b[0mdata\u001b[0m\u001b[0;34m)\u001b[0m\u001b[0;34m\u001b[0m\u001b[0m\n\u001b[0m\u001b[1;32m    221\u001b[0m \u001b[0;34m\u001b[0m\u001b[0m\n\u001b[1;32m    222\u001b[0m \u001b[0;34m\u001b[0m\u001b[0m\n",
      "\u001b[0;31mNameError\u001b[0m: global name 'dot_parser' is not defined"
     ]
    }
   ],
   "source": [
    "graph = pydot.graph_from_dot_data(dot_data.getvalue())"
   ]
  },
  {
   "cell_type": "code",
   "execution_count": 27,
   "metadata": {
    "collapsed": false
   },
   "outputs": [],
   "source": [
    "max_depth_str = str(max_depth)\n",
    "test_size = str(samples_te)"
   ]
  },
  {
   "cell_type": "code",
   "execution_count": 28,
   "metadata": {
    "collapsed": false
   },
   "outputs": [],
   "source": [
    "rand_num = str(rand)"
   ]
  },
  {
   "cell_type": "code",
   "execution_count": 31,
   "metadata": {
    "collapsed": false
   },
   "outputs": [
    {
     "data": {
      "text/plain": [
       "\"Fisher's Iris Data\""
      ]
     },
     "execution_count": 31,
     "metadata": {},
     "output_type": "execute_result"
    }
   ],
   "source": [
    "data_set_name"
   ]
  },
  {
   "cell_type": "code",
   "execution_count": 30,
   "metadata": {
    "collapsed": false
   },
   "outputs": [
    {
     "ename": "ValueError",
     "evalue": "substring not found",
     "output_type": "error",
     "traceback": [
      "\u001b[0;31m---------------------------------------------------------------------------\u001b[0m",
      "\u001b[0;31mValueError\u001b[0m                                Traceback (most recent call last)",
      "\u001b[0;32m<ipython-input-30-0cd870075114>\u001b[0m in \u001b[0;36m<module>\u001b[0;34m()\u001b[0m\n\u001b[0;32m----> 1\u001b[0;31m \u001b[0mdata_name\u001b[0m \u001b[0;34m=\u001b[0m \u001b[0mdata_set_name\u001b[0m\u001b[0;34m.\u001b[0m\u001b[0mindex\u001b[0m\u001b[0;34m(\u001b[0m\u001b[0;34m\"Data_test\"\u001b[0m\u001b[0;34m)\u001b[0m\u001b[0;34m\u001b[0m\u001b[0m\n\u001b[0m",
      "\u001b[0;31mValueError\u001b[0m: substring not found"
     ]
    }
   ],
   "source": [
    "data_name = data_set_name.index(\"Data_test\")"
   ]
  },
  {
   "cell_type": "code",
   "execution_count": null,
   "metadata": {
    "collapsed": true
   },
   "outputs": [],
   "source": []
  },
  {
   "cell_type": "code",
   "execution_count": 121,
   "metadata": {
    "collapsed": false
   },
   "outputs": [
    {
     "name": "stdout",
     "output_type": "stream",
     "text": [
      "Fisher's Iris Data_test_0.9%_max_depth_12_rand_21_dt\n"
     ]
    }
   ],
   "source": [
    "filename = data_set_name + \"_test_\" + test_size + \"%_max_depth_\"\n",
    "filename = filename + max_depth_str + \"_rand_\" + rand_num\n",
    "filename_dt = filename + \"_dt\"\n",
    "print filename_dt"
   ]
  },
  {
   "cell_type": "code",
   "execution_count": 122,
   "metadata": {
    "collapsed": false
   },
   "outputs": [
    {
     "data": {
      "text/plain": [
       "True"
      ]
     },
     "execution_count": 122,
     "metadata": {},
     "output_type": "execute_result"
    }
   ],
   "source": [
    "graph.write_pdf(\"iris.pdf\")"
   ]
  },
  {
   "cell_type": "code",
   "execution_count": 123,
   "metadata": {
    "collapsed": false
   },
   "outputs": [],
   "source": [
    "fig = plt.figure()\n",
    "ax = fig.add_subplot(111)\n",
    "ax.plot(tot_nodes_expd, acc_tr_expd, label=\"Training Set\")\n",
    "ax.plot(tot_nodes_expd, acc_te_expd, label=\"Test Set\")\n",
    "#ax.plot(tot_nodes_train, acc_kfold_tr, label=\"Kfold Set\")\n",
    "#ax.plot(tot_nodes_train, acc_kfold_te, label=\"Pruned Test Set\")\n",
    "ax.set_xlabel('Size of Tree (# nodes)')\n",
    "ax.set_ylabel('Accuracy')\n",
    "ax.set_xlim(1,20)\n",
    "ax.set_xticks(range(21))\n",
    "ax.set_ylim(0.5,1.05)\n",
    "ax.set_title(filename)\n",
    "filename_png = filename + \".png\"\n",
    "ax.yaxis.grid(color='gray', linestyle='dashed')\n",
    "ax.xaxis.grid(color='gray', linestyle='dashed')\n",
    "ax.legend(loc='lower right', fontsize=12)\n",
    "#plt.show()\n",
    "plt.savefig(filename_png)"
   ]
  },
  {
   "cell_type": "code",
   "execution_count": 43,
   "metadata": {
    "collapsed": false
   },
   "outputs": [],
   "source": [
    "A = [100, 150, 388, 70]"
   ]
  },
  {
   "cell_type": "code",
   "execution_count": 44,
   "metadata": {
    "collapsed": false
   },
   "outputs": [],
   "source": [
    "B = [10, 15, 38, 7]"
   ]
  },
  {
   "cell_type": "code",
   "execution_count": 45,
   "metadata": {
    "collapsed": false
   },
   "outputs": [],
   "source": [
    "C = [ 1, 2, 3, 4]"
   ]
  },
  {
   "cell_type": "code",
   "execution_count": 46,
   "metadata": {
    "collapsed": true
   },
   "outputs": [],
   "source": [
    "D = [C, A, B ]"
   ]
  },
  {
   "cell_type": "code",
   "execution_count": 47,
   "metadata": {
    "collapsed": false
   },
   "outputs": [
    {
     "data": {
      "text/plain": [
       "[[1, 2, 3, 4], [100, 150, 388, 70], [10, 15, 38, 7]]"
      ]
     },
     "execution_count": 47,
     "metadata": {},
     "output_type": "execute_result"
    }
   ],
   "source": [
    "D"
   ]
  },
  {
   "cell_type": "code",
   "execution_count": 48,
   "metadata": {
    "collapsed": true
   },
   "outputs": [],
   "source": [
    "E = zip(C,A)"
   ]
  },
  {
   "cell_type": "code",
   "execution_count": 49,
   "metadata": {
    "collapsed": false
   },
   "outputs": [
    {
     "data": {
      "text/plain": [
       "[(1, 100), (2, 150), (3, 388), (4, 70)]"
      ]
     },
     "execution_count": 49,
     "metadata": {},
     "output_type": "execute_result"
    }
   ],
   "source": [
    "E"
   ]
  },
  {
   "cell_type": "code",
   "execution_count": null,
   "metadata": {
    "collapsed": true
   },
   "outputs": [],
   "source": []
  }
 ],
 "metadata": {
  "kernelspec": {
   "display_name": "Python 2",
   "language": "python",
   "name": "python2"
  },
  "language_info": {
   "codemirror_mode": {
    "name": "ipython",
    "version": 2
   },
   "file_extension": ".py",
   "mimetype": "text/x-python",
   "name": "python",
   "nbconvert_exporter": "python",
   "pygments_lexer": "ipython2",
   "version": "2.7.11"
  }
 },
 "nbformat": 4,
 "nbformat_minor": 0
}
