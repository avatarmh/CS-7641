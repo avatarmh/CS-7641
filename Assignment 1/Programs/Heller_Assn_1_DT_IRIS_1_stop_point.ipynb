{
 "metadata": {
  "name": "",
  "signature": "sha256:5ba32832d221d38ce29c061397ea6d3581ef494c69e6b1469594e017746bdf29"
 },
 "nbformat": 3,
 "nbformat_minor": 0,
 "worksheets": [
  {
   "cells": [
    {
     "cell_type": "code",
     "collapsed": false,
     "input": [
      "import numpy as np\n",
      "import pandas as pd\n",
      "import scipy as sp\n",
      "import matplotlib.pyplot as plt\n",
      "import pydot\n",
      "from sklearn import tree\n",
      "from sklearn import cross_validation\n",
      "from sklearn.metrics import confusion_matrix\n",
      "from sklearn.metrics import accuracy_score\n",
      "from sklearn.datasets import load_iris\n",
      "from sklearn.externals.six import StringIO  "
     ],
     "language": "python",
     "metadata": {},
     "outputs": [],
     "prompt_number": 1
    },
    {
     "cell_type": "code",
     "collapsed": false,
     "input": [
      "#\n",
      "# Goal: fit a decision tree to predict one of 3 iris species \n",
      "# based on sepal and petal length and width and explore, if \n",
      "# needed, reduced error pruning vs post-pruning.\n",
      "#\n",
      "# \u2022 Expand tree using a 90%/10% training/test set scheme by\n",
      "#   varying the maximum depth. Reduce overfitting by con-\n",
      "#   straining minimum samples_split to 5% of sample to be \n",
      "#   fit (90%). Capture accuracy of training/test sets and \n",
      "#   complexity according to maximum number of nodes. \n",
      "# \u2022 Use K-fold cross-validation (CV) on 80%/10%/10%\n",
      "#   training/CV/test data beginning from the the fully\n",
      "#   expanded tree, decrementing maximum depth and using \n",
      "#   minimum split restriction. Use K-fold CV as a post-\n",
      "#   pruning mechanism. Capture training/CV and test set\n",
      "#   accuracy scores.   \n",
      "#"
     ],
     "language": "python",
     "metadata": {},
     "outputs": [],
     "prompt_number": 2
    },
    {
     "cell_type": "code",
     "collapsed": false,
     "input": [
      "# Preliminary exploratory data analysis\n",
      "#\n",
      "# Load Fisher's iris data and verify dimensions\n",
      "data_set_name = \"Fisher's Iris Data\"\n",
      "iris = load_iris()\n",
      "samples = iris.data.shape[0]\n",
      "features = iris.data.shape[1]\n",
      "classes = iris.target_names.shape[0]"
     ],
     "language": "python",
     "metadata": {},
     "outputs": [],
     "prompt_number": 3
    },
    {
     "cell_type": "code",
     "collapsed": false,
     "input": [
      "#df = pd.read_csv(\"iris.csv\") #Reading the dataset in a dataframe using Pandas\n",
      "#df.head(10)"
     ],
     "language": "python",
     "metadata": {},
     "outputs": [],
     "prompt_number": 4
    },
    {
     "cell_type": "code",
     "collapsed": false,
     "input": [
      "# Separate data into randomly selected training/validation and test\n",
      "# sets keeping the test set for final model testing. Since the iris\n",
      "# data is so small will do a K-fold cv but will still do final\n",
      "# test for some percent reserved for hold_out.\n",
      "#\n",
      "hold_out =.1\n",
      "rand = 42\n",
      "X_train, X_test, y_train, y_test = cross_validation.train_test_split(\n",
      "    iris.data, iris.target, test_size=hold_out, random_state=rand)\n",
      "print(X_train.shape)"
     ],
     "language": "python",
     "metadata": {},
     "outputs": [
      {
       "output_type": "stream",
       "stream": "stdout",
       "text": [
        "(135, 4)\n"
       ]
      }
     ],
     "prompt_number": 9
    },
    {
     "cell_type": "code",
     "collapsed": false,
     "input": [
      "clf = tree.DecisionTreeClassifier()\n",
      "clf = clf.fit(X_train, y_train)"
     ],
     "language": "python",
     "metadata": {},
     "outputs": [],
     "prompt_number": 10
    },
    {
     "cell_type": "code",
     "collapsed": false,
     "input": [
      "# Initialize values for the maximum depth and counters for complexity\n",
      "# and accuracy\n",
      "#\n",
      "tot_nodes_tr = []  # attrib # nodes for DT by depth; may differ for CV\n",
      "acc_train = []     # accuracy from simple DT build on training set\n",
      "acc_test = []      # accuracy from simple DT build on test set\n",
      "acc_kfold_tr = []  # accuracy from kfolds on training set\n",
      "acc_kfold_te = []  # accuracy from kfolds on hold out set"
     ],
     "language": "python",
     "metadata": {},
     "outputs": [],
     "prompt_number": 11
    },
    {
     "cell_type": "code",
     "collapsed": false,
     "input": [
      "folds = 5\n",
      "kfold = cross_validation.KFold(X_train.shape[0],n_folds=folds)"
     ],
     "language": "python",
     "metadata": {},
     "outputs": [],
     "prompt_number": 12
    },
    {
     "cell_type": "code",
     "collapsed": false,
     "input": [
      "max_depth = samples/(features*classes)  # heuristic\n",
      "max_depths = range(1,max_depth+1) # fix indices to correspond with nodes\n",
      "max_depth_obs = 1\n",
      "#\n",
      "for depth in max_depths:\n",
      "    acc_k_tr = [] # init to track kfold training errors for each depth\n",
      "    acc_k_te []  # init to track kfold testing errors for each depth\n",
      "    clf = tree.DecisionTreeClassifier(max_depth=depth)\n",
      "    kf_clf = clf # for use in inner loop for k-fold CV\n",
      "    clf = clf.fit(X_train, y_train) # fully grown tree s.t. min samples\n",
      "# Pull attribute for test/train model and calculate errors\n",
      "    max_depth_obs = max(max_depth_obs, clf.tree_.max_depth)\n",
      "    tot_nodes_tr.append(clf.tree_.node_count) # works for test set too\n",
      "    pred_y_train = clf.predict(X_train)\n",
      "    acc_train.append(accuracy_score(y_train, pred_y_train))\n",
      "    pred_y_test = clf.predict(X_test)\n",
      "    acc_test.append(accuracy_score(y_test, pred_y_test))\n",
      "# train K-fold and get kfold and test accuracy\n",
      "    for train, test in kfold:\n",
      "        X_ktrain, X_ktest = X_train[train], X_train[test] \n",
      "        y_ktrain, y_ktest = y_train[train], y_train[test]       \n",
      "        kf_clf.fit(X_ktrain,y_ktrain)\n",
      "        pred_y_ktest = clf.predict(X_ktest) \n",
      "        acc_k_tr.append(accuracy_score(y_ktest,pred_y_ktest))\n",
      "        pred_y_ktest = clf.predict(X_ktest) \n",
      "        acc_k_test.append(accuracy_(y_test))\n",
      "    acc_kfold.append(np.mean(acc_k))\n",
      "print(\"FINAL TRAIN-TEST TREE: max_depth=\", max_depth_obs)\n",
      "print(\"tot_nodes=\", tot_nodes_train[0:max_depth_obs])\n",
      "print(\"acc_train=\", np.around(acc_train[0:max_depth_obs],4))\n",
      "print(\"Train \", confusion_matrix(y_train, pred_y_train))\n",
      "print(\"acc_test=\", np.around(acc_test[0:max_depth_obs],4))\n",
      "print(\"Test \", confusion_matrix(y_test,pred_y_test))\n",
      "print(\"acc_kfold=\", np.around(acc_kfold[0:depth],4))"
     ],
     "language": "python",
     "metadata": {},
     "outputs": [
      {
       "ename": "SyntaxError",
       "evalue": "invalid syntax (<ipython-input-13-6e225a4852e4>, line 7)",
       "output_type": "pyerr",
       "traceback": [
        "\u001b[0;36m  File \u001b[0;32m\"<ipython-input-13-6e225a4852e4>\"\u001b[0;36m, line \u001b[0;32m7\u001b[0m\n\u001b[0;31m    acc_k_te []  # init to track kfold testing errors for each depth\u001b[0m\n\u001b[0m              ^\u001b[0m\n\u001b[0;31mSyntaxError\u001b[0m\u001b[0;31m:\u001b[0m invalid syntax\n"
       ]
      }
     ],
     "prompt_number": 13
    },
    {
     "cell_type": "code",
     "collapsed": false,
     "input": [
      "dot_data = StringIO() \n",
      "tree.export_graphviz(clf, out_file=dot_data, feature_names=iris.feature_names) \n",
      "graph = pydot.graph_from_dot_data(dot_data.getvalue())\n",
      "max_depth_str = str(max_depth)\n",
      "test_size = str(p_test)\n",
      "rand_num = str(rand)\n",
      "filename = data_set_name + \"_test_\" + test_size + \"%_max_depth_\"\n",
      "filename = filename + max_depth_str + \"_rand_\" + rand_num\n",
      "filename_dt = filename + \"_dt.pdf\"\n",
      "print filename_dt\n",
      "graph.write_pdf(filename_dt)"
     ],
     "language": "python",
     "metadata": {},
     "outputs": [
      {
       "output_type": "stream",
       "stream": "stdout",
       "text": [
        "Fisher's Iris Data_test_0.1%_max_depth_12_rand_42_dt.pdf\n",
        "Warning: Could not load \"/usr/local/lib/graphviz/libgvplugin_pango.6.dylib\" - file not found\n",
        "Warning: Could not load \"/usr/local/lib/graphviz/libgvplugin_pango.6.dylib\" - file not found\n",
        "Warning: Could not load \"/usr/local/lib/graphviz/libgvplugin_pango.6.dylib\" - file not found\n",
        "\n"
       ]
      },
      {
       "metadata": {},
       "output_type": "pyout",
       "prompt_number": 306,
       "text": [
        "True"
       ]
      }
     ],
     "prompt_number": 306
    },
    {
     "cell_type": "code",
     "collapsed": false,
     "input": [
      "fig = plt.figure()\n",
      "ax = fig.add_subplot(111)\n",
      "ax.plot(tot_nodes_train, acc_train, label=\"Training Set\")\n",
      "ax.plot(tot_nodes_train, acc_test,label=\"CV Set\")\n",
      "ax.plot(tot_nodes_train, acc_kfold, label=\"Test Set\")\n",
      "ax.set_xlabel('Size of Tree (# nodes)')\n",
      "ax.set_ylabel('Accuracy')\n",
      "ax.set_xlim(1,20)\n",
      "ax.set_xticks(range(21))\n",
      "ax.set_ylim(0.5,1.05)\n",
      "ax.set_title(filename)\n",
      "ax.legend(loc='lower right', fontsize=12)\n",
      "plt.show()"
     ],
     "language": "python",
     "metadata": {},
     "outputs": []
    },
    {
     "cell_type": "code",
     "collapsed": false,
     "input": [],
     "language": "python",
     "metadata": {},
     "outputs": [],
     "prompt_number": 265
    },
    {
     "cell_type": "code",
     "collapsed": false,
     "input": [],
     "language": "python",
     "metadata": {},
     "outputs": []
    }
   ],
   "metadata": {}
  }
 ]
}