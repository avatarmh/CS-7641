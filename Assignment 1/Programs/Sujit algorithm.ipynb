{
 "metadata": {
  "name": "",
  "signature": "sha256:d225f2f6ea85cf3776ef26f1d9d3a6932810b33d1aef6310a4fd6a6c5e0af956"
 },
 "nbformat": 3,
 "nbformat_minor": 0,
 "worksheets": [
  {
   "cells": [
    {
     "cell_type": "code",
     "collapsed": false,
     "input": [
      "import numpy as np\n",
      "import pandas as pd\n",
      "import scipy as sp\n",
      "import matplotlib.pyplot as plt\n",
      "import pydot\n",
      "from sklearn import tree\n",
      "from sklearn import cross_validation\n",
      "from sklearn.metrics import confusion_matrix\n",
      "from sklearn.metrics import accuracy_score\n",
      "from sklearn.datasets import load_iris\n",
      "from sklearn.externals.six import StringIO  "
     ],
     "language": "python",
     "metadata": {},
     "outputs": []
    },
    {
     "cell_type": "code",
     "collapsed": false,
     "input": [
      "iris = load_iris()\n",
      "samples = iris.data.shape[0]\n",
      "features = iris.data.shape[1]\n",
      "classes = iris.target_names.shape[0]\n",
      "print samples\n",
      "#\n",
      "p_test =.1\n",
      "#\n",
      "rand = 42\n",
      "#\n",
      "X_train, X_test, y_train, y_test = cross_validation.train_test_split(\n",
      "    iris.data, iris.target, test_size=p_test, random_state=rand)\n",
      "clf = tree.DecisionTreeClassifier(max_depth=depth)\n",
      "clf = clf.fit(X_train, y_train) # fully grown tree s.t. min samples\n",
      "    tot_nodes_train.append(clf.tree_.node_count) # works for test set too\n",
      "    pred_y_train = clf.predict(X_train)\n",
      "    pred_y_test = clf.predict(X_test)\n",
      "    acc_train.append(accuracy_score(y_train, pred_y_train))\n",
      "    acc_improve = acc_train[depth] - acc_train[depth-1]\n",
      "    acc_test.append(accuracy_score(y_test, pred_y_test))\n"
     ],
     "language": "python",
     "metadata": {},
     "outputs": [
      {
       "ename": "IndentationError",
       "evalue": "unexpected indent (<ipython-input-1-a6fabc61e1ea>, line 15)",
       "output_type": "pyerr",
       "traceback": [
        "\u001b[0;36m  File \u001b[0;32m\"<ipython-input-1-a6fabc61e1ea>\"\u001b[0;36m, line \u001b[0;32m15\u001b[0m\n\u001b[0;31m    tot_nodes_train.append(clf.tree_.node_count) # works for test set too\u001b[0m\n\u001b[0m    ^\u001b[0m\n\u001b[0;31mIndentationError\u001b[0m\u001b[0;31m:\u001b[0m unexpected indent\n"
       ]
      }
     ],
     "prompt_number": 1
    },
    {
     "cell_type": "code",
     "collapsed": false,
     "input": [],
     "language": "python",
     "metadata": {},
     "outputs": []
    }
   ],
   "metadata": {}
  }
 ]
}